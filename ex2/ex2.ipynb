{
 "cells": [
  {
   "cell_type": "markdown",
   "metadata": {},
   "source": [
    "Logistic回归模型 (线性可分)\n",
    "====\n",
    "\n",
    "# 简介\n",
    "\n",
    "预测一个学生是否被大学录取。假设你是大学某个院系的管理员，你想通过申请人在两门考试中的表现来决定每个人的录取率，你有来自以前申请人的历史数据，你可以用这些数据作为训练集建立Logistic回归，对每一个训练样本，你有申请人在两门考试中的分数和录取决定。\n",
    "\n",
    "**目标:**\n",
    "建立一个分类模型，基于这两门课的分数来估计申请人的录取概率。\n"
   ]
  },
  {
   "cell_type": "code",
   "execution_count": 16,
   "metadata": {},
   "outputs": [],
   "source": [
    "import numpy as np\n",
    "import pandas as pd\n",
    "import matplotlib.pyplot as plt\n",
    "\n",
    "np.set_printoptions(suppress=True, precision=4, floatmode='fixed')\n",
    "\n",
    "## 全局设置\n",
    "plt.rcParams['figure.figsize']=(16, 8)\n",
    "# plt.rcParams['font.sans-serif'] = ['SimHei']\n",
    "# plt.rcParams['axes.unicode_minus'] = False\n"
   ]
  },
  {
   "cell_type": "code",
   "execution_count": 17,
   "metadata": {},
   "outputs": [],
   "source": [
    "# numpy way\n",
    "# data = np.loadtxt('ex2data1.txt', delimiter=',')\n",
    "\n",
    "data = pd.read_csv('ex2data1.txt', names = ['Exam1','Exam2','Accepted'])\n"
   ]
  },
  {
   "cell_type": "markdown",
   "metadata": {},
   "source": [
    "# 原始数据"
   ]
  },
  {
   "cell_type": "code",
   "execution_count": 18,
   "metadata": {},
   "outputs": [
    {
     "data": {
      "text/html": [
       "<div>\n",
       "<style scoped>\n",
       "    .dataframe tbody tr th:only-of-type {\n",
       "        vertical-align: middle;\n",
       "    }\n",
       "\n",
       "    .dataframe tbody tr th {\n",
       "        vertical-align: top;\n",
       "    }\n",
       "\n",
       "    .dataframe thead th {\n",
       "        text-align: right;\n",
       "    }\n",
       "</style>\n",
       "<table border=\"1\" class=\"dataframe\">\n",
       "  <thead>\n",
       "    <tr style=\"text-align: right;\">\n",
       "      <th></th>\n",
       "      <th>Exam1</th>\n",
       "      <th>Exam2</th>\n",
       "      <th>Accepted</th>\n",
       "    </tr>\n",
       "  </thead>\n",
       "  <tbody>\n",
       "    <tr>\n",
       "      <th>0</th>\n",
       "      <td>34.623660</td>\n",
       "      <td>78.024693</td>\n",
       "      <td>0</td>\n",
       "    </tr>\n",
       "    <tr>\n",
       "      <th>1</th>\n",
       "      <td>30.286711</td>\n",
       "      <td>43.894998</td>\n",
       "      <td>0</td>\n",
       "    </tr>\n",
       "    <tr>\n",
       "      <th>2</th>\n",
       "      <td>35.847409</td>\n",
       "      <td>72.902198</td>\n",
       "      <td>0</td>\n",
       "    </tr>\n",
       "    <tr>\n",
       "      <th>3</th>\n",
       "      <td>60.182599</td>\n",
       "      <td>86.308552</td>\n",
       "      <td>1</td>\n",
       "    </tr>\n",
       "    <tr>\n",
       "      <th>4</th>\n",
       "      <td>79.032736</td>\n",
       "      <td>75.344376</td>\n",
       "      <td>1</td>\n",
       "    </tr>\n",
       "    <tr>\n",
       "      <th>5</th>\n",
       "      <td>45.083277</td>\n",
       "      <td>56.316372</td>\n",
       "      <td>0</td>\n",
       "    </tr>\n",
       "    <tr>\n",
       "      <th>6</th>\n",
       "      <td>61.106665</td>\n",
       "      <td>96.511426</td>\n",
       "      <td>1</td>\n",
       "    </tr>\n",
       "    <tr>\n",
       "      <th>7</th>\n",
       "      <td>75.024746</td>\n",
       "      <td>46.554014</td>\n",
       "      <td>1</td>\n",
       "    </tr>\n",
       "    <tr>\n",
       "      <th>8</th>\n",
       "      <td>76.098787</td>\n",
       "      <td>87.420570</td>\n",
       "      <td>1</td>\n",
       "    </tr>\n",
       "    <tr>\n",
       "      <th>9</th>\n",
       "      <td>84.432820</td>\n",
       "      <td>43.533393</td>\n",
       "      <td>1</td>\n",
       "    </tr>\n",
       "  </tbody>\n",
       "</table>\n",
       "</div>"
      ],
      "text/plain": [
       "       Exam1      Exam2  Accepted\n",
       "0  34.623660  78.024693         0\n",
       "1  30.286711  43.894998         0\n",
       "2  35.847409  72.902198         0\n",
       "3  60.182599  86.308552         1\n",
       "4  79.032736  75.344376         1\n",
       "5  45.083277  56.316372         0\n",
       "6  61.106665  96.511426         1\n",
       "7  75.024746  46.554014         1\n",
       "8  76.098787  87.420570         1\n",
       "9  84.432820  43.533393         1"
      ]
     },
     "execution_count": 18,
     "metadata": {},
     "output_type": "execute_result"
    }
   ],
   "source": [
    "data[:10]\n"
   ]
  },
  {
   "cell_type": "code",
   "execution_count": 19,
   "metadata": {},
   "outputs": [
    {
     "data": {
      "text/plain": [
       "(100, 3)"
      ]
     },
     "execution_count": 19,
     "metadata": {},
     "output_type": "execute_result"
    }
   ],
   "source": [
    "data.shape\n"
   ]
  },
  {
   "cell_type": "code",
   "execution_count": 20,
   "metadata": {},
   "outputs": [
    {
     "name": "stdout",
     "output_type": "stream",
     "text": [
      "Plotting data with + indicating (y = 1) examples and o indicatig (y = 0) examples.\n",
      "\n"
     ]
    },
    {
     "data": {
      "text/plain": [
       "<AxesSubplot:xlabel='Exam 1 score', ylabel='Exam 2 score'>"
      ]
     },
     "execution_count": 20,
     "metadata": {},
     "output_type": "execute_result"
    },
    {
     "data": {
      "image/png": "[encoded data removed]",
      "text/plain": [
       "<Figure size 1152x576 with 1 Axes>"
      ]
     },
     "metadata": {
      "needs_background": "light"
     },
     "output_type": "display_data"
    }
   ],
   "source": [
    "def plotData(data):\n",
    "    _X = data.iloc[:, :-1]\n",
    "    _y = data.iloc[:, -1:]\n",
    "    pos = _X[_y['Accepted'] == 1]\n",
    "    neg = _X[_y['Accepted'] == 0]\n",
    "\n",
    "    print('Plotting data with + indicating (y = 1) examples and o indicatig (y = 0) examples.\\n')\n",
    "    fig, ax = plt.subplots()\n",
    "    ax.plot(pos['Exam1'], pos['Exam2'], 'go', markersize=7, markerfacecolor='y', label='Admitted(y=1)')\n",
    "    ax.plot(neg['Exam1'], neg['Exam2'], 'rx', markersize=7, linewidth='2', label='Not admitted(y=0)')\n",
    "    ax.set_xlabel('Exam 1 score')\n",
    "    ax.set_ylabel('Exam 2 score')\n",
    "    ax.legend()\n",
    "\n",
    "    return ax\n",
    "\n",
    "plotData(data)\n"
   ]
  },
  {
   "cell_type": "markdown",
   "metadata": {},
   "source": [
    "# 构建训练集"
   ]
  },
  {
   "cell_type": "code",
   "execution_count": 21,
   "metadata": {},
   "outputs": [
    {
     "name": "stdout",
     "output_type": "stream",
     "text": [
      "(100, 3) (100, 1) (3, 1)\n",
      "[[ 1.0000 34.6237 78.0247]\n",
      " [ 1.0000 30.2867 43.8950]\n",
      " [ 1.0000 35.8474 72.9022]\n",
      " [ 1.0000 60.1826 86.3086]\n",
      " [ 1.0000 79.0327 75.3444]\n",
      " [ 1.0000 45.0833 56.3164]\n",
      " [ 1.0000 61.1067 96.5114]\n",
      " [ 1.0000 75.0247 46.5540]\n",
      " [ 1.0000 76.0988 87.4206]\n",
      " [ 1.0000 84.4328 43.5334]]\n"
     ]
    }
   ],
   "source": [
    "X = data.iloc[:, :-1]\n",
    "y = data.iloc[:, -1:]\n",
    "\n",
    "m, n = X.shape  # m 行样本, n 列特征\n",
    "X = np.c_[np.ones(m), X]  # 在 X 前加一列 1, 作为偏置(bias, 即theta 0)的x值\n",
    "y = y.values\n",
    "initial_theta = np.zeros((X.shape[1], 1))  # 特征向量\n",
    "\n",
    "print(X.shape, y.shape, initial_theta.shape)\n",
    "print(X[:10])\n"
   ]
  },
  {
   "cell_type": "markdown",
   "metadata": {},
   "source": [
    "# 代价和梯度函数"
   ]
  },
  {
   "cell_type": "code",
   "execution_count": 22,
   "metadata": {},
   "outputs": [],
   "source": [
    "def sigmoid(z):\n",
    "    return 1.0 / (1.0 + np.exp(-z))\n",
    "\n",
    "def computeCost(X, y, theta):\n",
    "    '''\n",
    "    COMPUTECOST Compute cost for linear regression:\n",
    "        J = COMPUTECOST(X, y, theta) computes the cost of using theta as the\n",
    "        parameter for linear regression to fit the data points in X and y\n",
    "    '''\n",
    "    m = len(y) # number of training examples\n",
    "    h = sigmoid(X @ theta) # hypothesis function\n",
    "    J = -np.sum(y * np.log(h) + (1-y)*np.log(1-h))/m\n",
    "    grad = X.T @ (h-y) / m\n",
    "    return J, grad\n"
   ]
  },
  {
   "cell_type": "code",
   "execution_count": 23,
   "metadata": {},
   "outputs": [
    {
     "name": "stdout",
     "output_type": "stream",
     "text": [
      "\n",
      "Testing the cost function ...\n",
      "\n",
      "Cost at initial theta (zeros): 0.6931471805599453\n",
      "\n",
      "Expected cost (approx): 0.693\n",
      "\n",
      "Gradient at initial theta (zeros): \n",
      "\n",
      "[[ -0.1000]\n",
      " [-12.0092]\n",
      " [-11.2628]] \n",
      "\n",
      "Expected gradients (approx):\n",
      " -0.1000\n",
      " -12.0092\n",
      " -11.2628\n",
      "\n"
     ]
    }
   ],
   "source": [
    "# compute and display initial cost\n",
    "print('\\nTesting the cost function ...\\n')\n",
    "cost, grad = computeCost(X, y, initial_theta)\n",
    "print(f'Cost at initial theta (zeros): {cost}\\n')\n",
    "print('Expected cost (approx): 0.693\\n')\n",
    "print('Gradient at initial theta (zeros): \\n')\n",
    "print(f'{grad} \\n')\n",
    "print('Expected gradients (approx):\\n -0.1000\\n -12.0092\\n -11.2628\\n')\n"
   ]
  },
  {
   "cell_type": "code",
   "execution_count": 24,
   "metadata": {},
   "outputs": [
    {
     "name": "stdout",
     "output_type": "stream",
     "text": [
      "\n",
      "Cost at test theta: 0.21833019382659782\n",
      "\n",
      "Expected cost (approx): 0.218\n",
      "\n",
      "Gradient at test theta: \n",
      "\n",
      " [[0.043]\n",
      " [2.566]\n",
      " [2.647]] \n",
      "\n",
      "Expected gradients (approx):\n",
      " 0.043\n",
      " 2.566\n",
      " 2.647\n",
      "\n"
     ]
    }
   ],
   "source": [
    "np.set_printoptions(precision=3)\n",
    "\n",
    "# Compute and display cost and gradient with non-zero theta\n",
    "test_theta = [[-24], [0.2], [0.2]]\n",
    "cost, grad = computeCost(X, y, test_theta)\n",
    "print(f'\\nCost at test theta: {cost}\\n')\n",
    "print('Expected cost (approx): 0.218\\n')\n",
    "print('Gradient at test theta: \\n')\n",
    "print(f' {grad} \\n')\n",
    "print('Expected gradients (approx):\\n 0.043\\n 2.566\\n 2.647\\n')\n"
   ]
  },
  {
   "cell_type": "markdown",
   "metadata": {},
   "source": [
    "# 梯度下降算法\n",
    "\n",
    "## gradientDescent 自己实现的版本\n",
    "\n",
    "自己实现的梯度下降算法效果不是很理想\n",
    "\n",
    "可以多尝试几次用不同的学习率 alpha 和 迭代次数, 我最后看到 alpha = 0.004, iterations = 300000 效果比较接近课程切勿的代价值 和 theta, 但计算速度很慢."
   ]
  },
  {
   "cell_type": "code",
   "execution_count": 25,
   "metadata": {},
   "outputs": [
    {
     "name": "stdout",
     "output_type": "stream",
     "text": [
      "\n",
      "Running Gradient Descent ...\n",
      "\n",
      "Cost at theta found by gradient descent: 0.20367564136975919\n",
      "Expected cost (approx): 0.203\n",
      "Theta found by gradient descent:\n",
      "[[-24.088]\n",
      " [  0.198]\n",
      " [  0.193]]\n",
      "Expected theta values (approx)\n",
      "  -25.161\n",
      "    0.206\n",
      "    0.201\n",
      "\n"
     ]
    }
   ],
   "source": [
    "def gradientDescent(X, y, theta, alpha, num_iters):\n",
    "    '''\n",
    "    GRADIENTDESCENT Performs gradient descent to learn theta\n",
    "        theta = GRADIENTDESCENT(X, y, theta, alpha, num_iters) updates theta by\n",
    "        taking num_iters gradient steps with learning rate alpha\n",
    "    '''\n",
    "    J_history = []\n",
    "    for i in range(num_iters):\n",
    "        J, grad = computeCost(X, y, theta)\n",
    "        theta -= alpha * grad\n",
    "        J_history.append(J)\n",
    "    return theta, J_history\n",
    "\n",
    "\n",
    "iterations = 300000\n",
    "alpha = 0.004\n",
    "initial_theta = np.zeros((X.shape[1], 1))\n",
    "\n",
    "print('\\nRunning Gradient Descent ...\\n')\n",
    "final_theta, J_history = gradientDescent(X, y, initial_theta, alpha, iterations)\n",
    "\n",
    "print(f'Cost at theta found by gradient descent: {J_history[-1]}')\n",
    "print('Expected cost (approx): 0.203')\n",
    "print('Theta found by gradient descent:')\n",
    "print(final_theta)\n",
    "print('''\\\n",
    "Expected theta values (approx)\n",
    "  -25.161\n",
    "    0.206\n",
    "    0.201\n",
    "''')\n"
   ]
  },
  {
   "cell_type": "markdown",
   "metadata": {},
   "source": [
    "## 利用三方库的优化器\n",
    "\n",
    "### scipy.optimize.fmin_tnc\n",
    "课程里推荐使用 Octave 的内置函数 `fminunc`. \n",
    "\n",
    "用python 实现的话, 我们可以使用`scipy.optimize` 库里较为常用的`fmin_tnc`函数, truncated Newton (TNC) algorithm\n",
    "\n",
    "速度非常快 :-)\n",
    "\n",
    "`scipy.optimize` 还提供了其他不同梯度下降算法的优化器:\n",
    "| function | description | \n",
    "| -------- | ----------- |\n",
    "| `fmin(func, x0[, args, xtol, ftol, maxiter, …])` | Minimize a function using the downhill simplex algorithm. |\n",
    "| `fmin_powell(func, x0[, args, xtol, ftol, …])` | Minimize a function using modified Powell’s method. |\n",
    "| `fmin_cg(f, x0[, fprime, args, gtol, norm, …])` | Minimize a function using a nonlinear conjugate gradient algorithm. |\n",
    "| `fmin_bfgs(f, x0[, fprime, args, gtol, norm, …])` | Minimize a function using the BFGS algorithm. |\n",
    "| `fmin_ncg(f, x0, fprime[, fhess_p, fhess, …])` | Unconstrained minimization of a function using the Newton-CG method. |\n",
    "| `fmin_l_bfgs_b(func, x0[, fprime, args, …])` | Minimize a function func using the L-BFGS-B algorithm. |\n",
    "| `fmin_tnc(func, x0[, fprime, args, …])` | Minimize a function with variables subject to bounds, using gradient information in a truncated Newton algorithm. |\n",
    "| `fmin_cobyla(func, x0, cons[, args, …])` | Minimize a function using the Constrained Optimization By Linear Approximation (COBYLA) method. |\n",
    "| `fmin_slsqp(func, x0[, eqcons, f_eqcons, …])` | Minimize a function using Sequential Least Squares Programming |"
   ]
  },
  {
   "cell_type": "code",
   "execution_count": 26,
   "metadata": {},
   "outputs": [
    {
     "name": "stdout",
     "output_type": "stream",
     "text": [
      "(array([-25.163,   0.206,   0.201]), 11, 1)\n",
      "Theta found by fmin_tnc:\n",
      "[[-25.163]\n",
      " [  0.206]\n",
      " [  0.201]]\n",
      "Expected theta values (approx)\n",
      "  -25.161\n",
      "    0.206\n",
      "    0.201\n",
      "\n"
     ]
    }
   ],
   "source": [
    "from scipy.optimize import fmin_tnc\n",
    "\n",
    "def computeCost_new(theta, X, y):\n",
    "    '''\n",
    "    因为cost函数在被fmin_tnc调用的时候,传进来的theta会变成一维数组,\n",
    "    然后就会报错tnc: gradient must have shape (len(x0),)\n",
    "    所以要把theta变为向量, 可以用reshape, 也可以添加维度\n",
    "    '''\n",
    "    # theta = theta.reshape((theta.shape[0],1))\n",
    "    theta = theta[:, np.newaxis] # 同上\n",
    "    m = len(y) # number of training examples\n",
    "    h = sigmoid(X @ theta) # hypothesis function\n",
    "    J = -np.sum(y * np.log(h) + (1-y)*np.log(1-h))/m\n",
    "    grad = X.T @ (h-y) / m\n",
    "    return J, grad\n",
    "\n",
    "\n",
    "result = fmin_tnc(func=computeCost_new, x0=initial_theta, args=(X, y))\n",
    "print(result)\n",
    "final_theta = result[0][:, np.newaxis] # 这里 fmin_tnc 返回的theta 是一维数组\n",
    "\n",
    "print('Theta found by fmin_tnc:')\n",
    "print(final_theta)\n",
    "print('''\\\n",
    "Expected theta values (approx)\n",
    "  -25.161\n",
    "    0.206\n",
    "    0.201\n",
    "''')\n"
   ]
  },
  {
   "cell_type": "markdown",
   "metadata": {},
   "source": [
    "### scipy.optimize.minimize\n",
    "\n",
    "`minimize` 是更为底层的函数, 我们可以设置不同的梯度下降算法.\n",
    "\n",
    "`minimize` 要求损失函数和梯度函数分别作为参数传入, 所以下面我们分别创建了两个函数: `calcCost(theta, X, y)` 和 `calcGrad(theta, X, y)`\n"
   ]
  },
  {
   "cell_type": "code",
   "execution_count": 36,
   "metadata": {},
   "outputs": [
    {
     "name": "stdout",
     "output_type": "stream",
     "text": [
      "     fun: 0.20349770225975955\n",
      "     jac: array([[-0.000],\n",
      "       [-0.000],\n",
      "       [ 0.000]])\n",
      " message: 'Converged (|f_n-f_(n-1)| ~= 0)'\n",
      "    nfev: 11\n",
      "     nit: 5\n",
      "  status: 1\n",
      " success: True\n",
      "       x: array([-25.163,   0.206,   0.201])\n",
      "Theta found by fmin_tnc:\n",
      "[[-25.163]\n",
      " [  0.206]\n",
      " [  0.201]]\n",
      "Expected theta values (approx)\n",
      "  -25.161\n",
      "    0.206\n",
      "    0.201\n",
      "\n"
     ]
    }
   ],
   "source": [
    "from scipy.optimize import minimize\n",
    "\n",
    "def calcCost(theta, X, y):\n",
    "    '''\n",
    "    计算损失值\n",
    "\n",
    "    因为cost函数在被优化器调用的时候,传进来的theta会变成一维数组,\n",
    "    然后就会报错tnc: gradient must have shape (len(x0),)\n",
    "    所以要把theta变为向量, 可以用reshape, 也可以添加维度\n",
    "    '''\n",
    "    # theta = theta.reshape((theta.shape[0],1))\n",
    "    theta = theta[:, np.newaxis] # 同上\n",
    "    m = len(y) # number of training examples\n",
    "    h = sigmoid(X @ theta) # hypothesis function\n",
    "    J = -np.sum(y * np.log(h) + (1-y)*np.log(1-h))/m\n",
    "    return J\n",
    "\n",
    "def calcGrad(theta, X, y):\n",
    "    '''\n",
    "    计算梯度\n",
    "\n",
    "    因为cost函数在被优化器调用的时候,传进来的theta会变成一维数组,\n",
    "    然后就会报错tnc: gradient must have shape (len(x0),)\n",
    "    所以要把theta变为向量, 可以用reshape, 也可以添加维度\n",
    "    '''\n",
    "    # theta = theta.reshape((theta.shape[0],1))\n",
    "    theta = theta[:, np.newaxis] # 同上\n",
    "    m = len(y) # number of training examples\n",
    "    h = sigmoid(X @ theta) # hypothesis function\n",
    "    grad = X.T @ (h-y) / m\n",
    "    return grad\n",
    "\n",
    "\n",
    "result = minimize(fun = calcCost,\n",
    "                  x0 = initial_theta,\n",
    "                  args = (X, y),\n",
    "                  method = 'TNC',  # truncated Newton (TNC) algorithm\n",
    "                  jac = calcGrad\n",
    "                  )\n",
    "print(result) # 返回字典, 'fun': 损失值, 'x': theta,  'vfev': 调用次数 ...\n",
    "final_theta = result['x'][:, np.newaxis] # 优化器返回的theta 是一维数组\n",
    "\n",
    "print('Theta found by fmin_tnc:')\n",
    "print(final_theta)\n",
    "print('''\\\n",
    "Expected theta values (approx)\n",
    "  -25.161\n",
    "    0.206\n",
    "    0.201\n",
    "''')\n"
   ]
  },
  {
   "cell_type": "markdown",
   "metadata": {},
   "source": [
    "# 训练集准确率"
   ]
  },
  {
   "cell_type": "code",
   "execution_count": 27,
   "metadata": {},
   "outputs": [
    {
     "name": "stdout",
     "output_type": "stream",
     "text": [
      "For a student with scores 45 and 85, we predict an admission probability of [0.776]\n",
      "Expected value: 0.775 +/- 0.002\n",
      "Train Accuracy: 89.0\n",
      "Expected accuracy (approx): 89.0\n"
     ]
    }
   ],
   "source": [
    "def predict(X, theta):\n",
    "    prob = sigmoid(X @ theta)\n",
    "    y_pred = np.int64(prob >= 0.5)\n",
    "    return y_pred\n",
    "\n",
    "\n",
    "prob = sigmoid([1, 45, 85] @ final_theta)\n",
    "\n",
    "print(f'For a student with scores 45 and 85, we predict an admission probability of {prob}')\n",
    "print('Expected value: 0.775 +/- 0.002')\n",
    "\n",
    "# Compute accuracy on our training set\n",
    "p = predict(X, final_theta)\n",
    "\n",
    "print(f'Train Accuracy: {np.mean(p == y) * 100}')\n",
    "print('Expected accuracy (approx): 89.0')\n"
   ]
  },
  {
   "cell_type": "markdown",
   "metadata": {},
   "source": [
    "# 决策边界\n",
    "\n",
    "决策边界就是 $ sigmoid(Xθ)=0.5$ 处, 即$Xθ=0$的时候\n",
    "\n",
    "由 $ Xθ = 0 $ 得:\n",
    "\n",
    "$ \\theta_0 + \\theta_1*x_1 + \\theta_2*x_2 = 0 $\n",
    "\n",
    "\n",
    "所以:\n",
    "\n",
    "$x_2 = -θ_0/θ_2 - θ_1/θ_2 * x_1$\n"
   ]
  },
  {
   "cell_type": "code",
   "execution_count": 28,
   "metadata": {},
   "outputs": [
    {
     "name": "stdout",
     "output_type": "stream",
     "text": [
      "Plotting data with + indicating (y = 1) examples and o indicatig (y = 0) examples.\n",
      "\n"
     ]
    },
    {
     "data": {
      "image/png": "[encoded data removed]",
      "text/plain": [
       "<Figure size 1152x576 with 1 Axes>"
      ]
     },
     "metadata": {
      "needs_background": "light"
     },
     "output_type": "display_data"
    }
   ],
   "source": [
    "coef1 = - final_theta[0] / final_theta[2]\n",
    "coef2 = - final_theta[1] / final_theta[2]\n",
    "x = [np.min(X[:, 2])-2, np.max(X[:, 2])+2] # 取左右两个端点即可\n",
    "f = coef1 + coef2 * x\n",
    "ax = plotData(data)   # 画原始数据\n",
    "ax.plot(x, f, c='b')  # 画边界线\n",
    "plt.show()\n"
   ]
  }
 ],
 "metadata": {
  "kernelspec": {
   "display_name": "Python 3",
   "language": "python",
   "name": "python3"
  },
  "language_info": {
   "codemirror_mode": {
    "name": "ipython",
    "version": 3
   },
   "file_extension": ".py",
   "mimetype": "text/x-python",
   "name": "python",
   "nbconvert_exporter": "python",
   "pygments_lexer": "ipython3",
   "version": "3.8.10"
  }
 },
 "nbformat": 4,
 "nbformat_minor": 2
}
