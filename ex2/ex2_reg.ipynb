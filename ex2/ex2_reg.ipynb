{
 "cells": [
  {
   "cell_type": "markdown",
   "metadata": {},
   "source": [
    "Logistic回归模型 (线性不可分)\n",
    "====\n",
    "\n",
    "用正则化的Logistic回归模型来预测一个制造工厂的微芯片是否通过质量保证（QA），在QA过程中，每个芯片都会经过各种测试来保证它可以正常运行。假设你是这个工厂的产品经理，你拥有一些芯片在两个不同测试下的测试结果，从这两个测试，你希望确定这些芯片是被接受还是拒绝，为了帮助你做这个决定，你有一些以前芯片的测试结果数据集，从中你可以建一个Logistic回归模型。\n"
   ]
  },
  {
   "cell_type": "code",
   "execution_count": 21,
   "metadata": {},
   "outputs": [],
   "source": [
    "import numpy as np\n",
    "import pandas as pd\n",
    "import matplotlib.pyplot as plt\n",
    "import matplotlib as mp\n",
    "\n",
    "np.set_printoptions(suppress=True, precision=4, floatmode='fixed')\n",
    "## 全局设置\n",
    "plt.rcParams['figure.figsize']=(8, 8)\n",
    "# plt.rcParams['font.sans-serif'] = ['SimHei']\n",
    "# plt.rcParams['axes.unicode_minus'] = False\n"
   ]
  },
  {
   "cell_type": "markdown",
   "metadata": {},
   "source": [
    "# 原始数据"
   ]
  },
  {
   "cell_type": "code",
   "execution_count": 3,
   "metadata": {},
   "outputs": [],
   "source": [
    "data = pd.read_csv('ex2data2.txt', names = ['Test_1','Test_2','Accepted'])\n"
   ]
  },
  {
   "cell_type": "code",
   "execution_count": 4,
   "metadata": {},
   "outputs": [
    {
     "data": {
      "text/html": [
       "<div>\n",
       "<style scoped>\n",
       "    .dataframe tbody tr th:only-of-type {\n",
       "        vertical-align: middle;\n",
       "    }\n",
       "\n",
       "    .dataframe tbody tr th {\n",
       "        vertical-align: top;\n",
       "    }\n",
       "\n",
       "    .dataframe thead th {\n",
       "        text-align: right;\n",
       "    }\n",
       "</style>\n",
       "<table border=\"1\" class=\"dataframe\">\n",
       "  <thead>\n",
       "    <tr style=\"text-align: right;\">\n",
       "      <th></th>\n",
       "      <th>Test_1</th>\n",
       "      <th>Test_2</th>\n",
       "      <th>Accepted</th>\n",
       "    </tr>\n",
       "  </thead>\n",
       "  <tbody>\n",
       "    <tr>\n",
       "      <th>0</th>\n",
       "      <td>0.051267</td>\n",
       "      <td>0.699560</td>\n",
       "      <td>1</td>\n",
       "    </tr>\n",
       "    <tr>\n",
       "      <th>1</th>\n",
       "      <td>-0.092742</td>\n",
       "      <td>0.684940</td>\n",
       "      <td>1</td>\n",
       "    </tr>\n",
       "    <tr>\n",
       "      <th>2</th>\n",
       "      <td>-0.213710</td>\n",
       "      <td>0.692250</td>\n",
       "      <td>1</td>\n",
       "    </tr>\n",
       "    <tr>\n",
       "      <th>3</th>\n",
       "      <td>-0.375000</td>\n",
       "      <td>0.502190</td>\n",
       "      <td>1</td>\n",
       "    </tr>\n",
       "    <tr>\n",
       "      <th>4</th>\n",
       "      <td>-0.513250</td>\n",
       "      <td>0.465640</td>\n",
       "      <td>1</td>\n",
       "    </tr>\n",
       "    <tr>\n",
       "      <th>5</th>\n",
       "      <td>-0.524770</td>\n",
       "      <td>0.209800</td>\n",
       "      <td>1</td>\n",
       "    </tr>\n",
       "    <tr>\n",
       "      <th>6</th>\n",
       "      <td>-0.398040</td>\n",
       "      <td>0.034357</td>\n",
       "      <td>1</td>\n",
       "    </tr>\n",
       "    <tr>\n",
       "      <th>7</th>\n",
       "      <td>-0.305880</td>\n",
       "      <td>-0.192250</td>\n",
       "      <td>1</td>\n",
       "    </tr>\n",
       "    <tr>\n",
       "      <th>8</th>\n",
       "      <td>0.016705</td>\n",
       "      <td>-0.404240</td>\n",
       "      <td>1</td>\n",
       "    </tr>\n",
       "    <tr>\n",
       "      <th>9</th>\n",
       "      <td>0.131910</td>\n",
       "      <td>-0.513890</td>\n",
       "      <td>1</td>\n",
       "    </tr>\n",
       "  </tbody>\n",
       "</table>\n",
       "</div>"
      ],
      "text/plain": [
       "     Test_1    Test_2  Accepted\n",
       "0  0.051267  0.699560         1\n",
       "1 -0.092742  0.684940         1\n",
       "2 -0.213710  0.692250         1\n",
       "3 -0.375000  0.502190         1\n",
       "4 -0.513250  0.465640         1\n",
       "5 -0.524770  0.209800         1\n",
       "6 -0.398040  0.034357         1\n",
       "7 -0.305880 -0.192250         1\n",
       "8  0.016705 -0.404240         1\n",
       "9  0.131910 -0.513890         1"
      ]
     },
     "execution_count": 4,
     "metadata": {},
     "output_type": "execute_result"
    }
   ],
   "source": [
    "data[:10]\n"
   ]
  },
  {
   "cell_type": "code",
   "execution_count": 5,
   "metadata": {},
   "outputs": [
    {
     "data": {
      "text/plain": [
       "(118, 3)"
      ]
     },
     "execution_count": 5,
     "metadata": {},
     "output_type": "execute_result"
    }
   ],
   "source": [
    "data.shape\n"
   ]
  },
  {
   "cell_type": "code",
   "execution_count": 6,
   "metadata": {},
   "outputs": [
    {
     "name": "stdout",
     "output_type": "stream",
     "text": [
      "Plotting data with + indicating (y = 1) examples and o indicatig (y = 0) examples.\n",
      "\n"
     ]
    },
    {
     "data": {
      "text/plain": [
       "<AxesSubplot:xlabel='Microchip Test 1', ylabel='Microchip Test 2'>"
      ]
     },
     "execution_count": 6,
     "metadata": {},
     "output_type": "execute_result"
    },
    {
     "data": {
      "image/png": "[encoded data removed]",
      "text/plain": [
       "<Figure size 432x288 with 1 Axes>"
      ]
     },
     "metadata": {
      "needs_background": "light"
     },
     "output_type": "display_data"
    }
   ],
   "source": [
    "def plotData(data):\n",
    "    _X = data.iloc[:, :-1]\n",
    "    _y = data.iloc[:, -1:]\n",
    "    pos = _X[_y['Accepted'] == 1]\n",
    "    neg = _X[_y['Accepted'] == 0]\n",
    "\n",
    "    print('Plotting data with + indicating (y = 1) examples and o indicatig (y = 0) examples.\\n')\n",
    "    fig, ax = plt.subplots()\n",
    "    ax.plot(pos['Test_1'], pos['Test_2'], 'go', markersize=7, label='accepted (y=1)')\n",
    "    ax.plot(neg['Test_1'], neg['Test_2'], 'rx', markersize=7, label='rejected (y=0)')\n",
    "    ax.set_xlabel('Microchip Test 1')\n",
    "    ax.set_ylabel('Microchip Test 2')\n",
    "    ax.legend()\n",
    "\n",
    "    return ax\n",
    "\n",
    "plotData(data)\n"
   ]
  },
  {
   "cell_type": "markdown",
   "metadata": {},
   "source": [
    "# 特征映射，创建高阶项特征"
   ]
  },
  {
   "cell_type": "code",
   "execution_count": 7,
   "metadata": {},
   "outputs": [
    {
     "name": "stdout",
     "output_type": "stream",
     "text": [
      "   ones       F10      F01       F20       F11       F02       F30       F21  \\\n",
      "0     1  0.051267  0.69956  0.002628  0.035864  0.489384  0.000135  0.001839   \n",
      "1     1 -0.092742  0.68494  0.008601 -0.063523  0.469143 -0.000798  0.005891   \n",
      "2     1 -0.213710  0.69225  0.045672 -0.147941  0.479210 -0.009761  0.031616   \n",
      "3     1 -0.375000  0.50219  0.140625 -0.188321  0.252195 -0.052734  0.070620   \n",
      "4     1 -0.513250  0.46564  0.263426 -0.238990  0.216821 -0.135203  0.122661   \n",
      "\n",
      "        F12       F03  ...       F23       F14       F05           F60  \\\n",
      "0  0.025089  0.342354  ...  0.000900  0.012278  0.167542  1.815630e-08   \n",
      "1 -0.043509  0.321335  ...  0.002764 -0.020412  0.150752  6.362953e-07   \n",
      "2 -0.102412  0.331733  ...  0.015151 -0.049077  0.158970  9.526844e-05   \n",
      "3 -0.094573  0.126650  ...  0.017810 -0.023851  0.031940  2.780914e-03   \n",
      "4 -0.111283  0.100960  ...  0.026596 -0.024128  0.021890  1.827990e-02   \n",
      "\n",
      "            F51       F42       F33       F24       F15       F06  \n",
      "0  2.477505e-07  0.000003  0.000046  0.000629  0.008589  0.117206  \n",
      "1 -4.699318e-06  0.000035 -0.000256  0.001893 -0.013981  0.103256  \n",
      "2 -3.085938e-04  0.001000 -0.003238  0.010488 -0.033973  0.110047  \n",
      "3 -3.724126e-03  0.004987 -0.006679  0.008944 -0.011978  0.016040  \n",
      "4 -1.658422e-02  0.015046 -0.013650  0.012384 -0.011235  0.010193  \n",
      "\n",
      "[5 rows x 28 columns]\n",
      "(118, 28)\n",
      "(118, 1)\n"
     ]
    }
   ],
   "source": [
    "#3.特征映射\n",
    "def mapFeature(x1, x2, power=6):\n",
    "    data = {}\n",
    "    for i in np.arange(1, power + 1):\n",
    "        for j in np.arange(i + 1):\n",
    "            data[f'F{i-j}{j}'] = np.power(x1, i - j) * np.power(x2, j)\n",
    "    df = pd.DataFrame(data)\n",
    "    df.insert(0, 'ones', 1) # 为bias(即theta 0) 插入x0 (恒为1)\n",
    "    return df\n",
    "\n",
    "x1 = data['Test_1']\n",
    "x2 = data['Test_2']\n",
    "data2 = mapFeature(x1, x2)\n",
    "print(data2.head())\n",
    "\n",
    "#4.构建数据集\n",
    "X = data2.values\n",
    "print(X.shape) # (118, 28)\n",
    "y = data.iloc[:, -1:].values\n",
    "print(y.shape) # (118, 1)\n"
   ]
  },
  {
   "cell_type": "markdown",
   "metadata": {},
   "source": [
    "# 损失和梯度函数"
   ]
  },
  {
   "cell_type": "code",
   "execution_count": 8,
   "metadata": {},
   "outputs": [],
   "source": [
    "def sigmoid(z):\n",
    "    return 1.0 / (1.0 + np.exp(-z))\n",
    "\n",
    "def computeCost(theta, X, y, lamda=1):\n",
    "    '''\n",
    "    COSTFUNCTIONREG Compute cost and gradient for logistic regression with regularization\n",
    "       J = COSTFUNCTIONREG(theta, X, y, lambda) computes the cost of using\n",
    "       theta as the parameter for regularized logistic regression and the\n",
    "       gradient of the cost w.r.t. to the parameters.\n",
    "    '''\n",
    "    theta = theta.reshape((theta.shape[0], 1))\n",
    "    m = len(y) # number of training examples\n",
    "    h = sigmoid(X @ theta) # hypothesis function\n",
    "    J = -1/m*np.sum(y * np.log(h) + (1-y)*np.log(1-h))\n",
    "    regularized = lamda/(2*m) * np.sum( np.power(theta[1:], 2) )\n",
    "    J += regularized\n",
    "\n",
    "    grad = X.T @ (h-y) / m\n",
    "    grad[1:] += (lamda/m)*theta[1:]\n",
    "    return J, grad\n"
   ]
  },
  {
   "cell_type": "code",
   "execution_count": 9,
   "metadata": {},
   "outputs": [
    {
     "name": "stdout",
     "output_type": "stream",
     "text": [
      "(118, 28) (28, 1)\n"
     ]
    }
   ],
   "source": [
    "initial_theta = np.zeros((X.shape[1], 1))  # 特征向量\n",
    "print(X.shape, initial_theta.shape)\n"
   ]
  },
  {
   "cell_type": "code",
   "execution_count": 10,
   "metadata": {},
   "outputs": [
    {
     "name": "stdout",
     "output_type": "stream",
     "text": [
      "\n",
      "Testing the cost function ...\n",
      "\n",
      "Cost at initial theta (zeros): 0.693\n",
      "Expected cost (approx): 0.693\n",
      "\n",
      "Gradient at initial theta (zeros) - first five values only:\n",
      "[[0.0085]\n",
      " [0.0188]\n",
      " [0.0001]\n",
      " [0.0503]\n",
      " [0.0115]] \n",
      "\n",
      "Expected gradients (approx) - first five values only:\n",
      " 0.0085\n",
      " 0.0188\n",
      " 0.0001\n",
      " 0.0503\n",
      " 0.0115\n",
      "\n"
     ]
    }
   ],
   "source": [
    "# compute and display initial cost\n",
    "print('\\nTesting the cost function ...\\n')\n",
    "cost, grad = computeCost(initial_theta, X, y)\n",
    "print(f'Cost at initial theta (zeros): {cost:.3f}')\n",
    "print('Expected cost (approx): 0.693\\n')\n",
    "print('Gradient at initial theta (zeros) - first five values only:')\n",
    "print(f'{grad[:5]} \\n')\n",
    "print('Expected gradients (approx) - first five values only:')\n",
    "print(' 0.0085\\n 0.0188\\n 0.0001\\n 0.0503\\n 0.0115\\n')\n"
   ]
  },
  {
   "cell_type": "code",
   "execution_count": 11,
   "metadata": {},
   "outputs": [
    {
     "name": "stdout",
     "output_type": "stream",
     "text": [
      "\n",
      "Cost at test theta (with lambda = 10): 3.16\n",
      "Expected cost (approx): 3.16\n",
      "\n",
      "Gradient at test theta - first five values only:\n",
      "[[0.3460]\n",
      " [0.1614]\n",
      " [0.1948]\n",
      " [0.2269]\n",
      " [0.0922]] \n",
      "\n",
      "Expected gradients (approx) - first five values only:\n",
      " 0.3460\n",
      " 0.1614\n",
      " 0.1948\n",
      " 0.2269\n",
      " 0.0922\n",
      "\n"
     ]
    }
   ],
   "source": [
    "# Compute and display cost and gradient\n",
    "# with all-ones theta and lambda = 10\n",
    "test_theta = np.ones((X.shape[1], 1))\n",
    "cost, grad = computeCost(test_theta, X, y, 10)\n",
    "print(f'\\nCost at test theta (with lambda = 10): {cost:.2f}')\n",
    "print('Expected cost (approx): 3.16\\n')\n",
    "print('Gradient at test theta - first five values only:')\n",
    "print(f'{grad[:5]} \\n')\n",
    "print('Expected gradients (approx) - first five values only:')\n",
    "print(' 0.3460\\n 0.1614\\n 0.1948\\n 0.2269\\n 0.0922\\n')\n"
   ]
  },
  {
   "cell_type": "markdown",
   "metadata": {},
   "source": [
    "# 使用梯度下降优化器\n",
    "\n",
    "课程里推荐使用 Octave 的内置函数 `fminunc`. \n",
    "\n",
    "用python 实现的话, 我们可以使用`scipy.optimize` 库里的`fmin_tnc`函数\n",
    "\n",
    "速度非常快 :-)"
   ]
  },
  {
   "cell_type": "code",
   "execution_count": 12,
   "metadata": {},
   "outputs": [
    {
     "name": "stdout",
     "output_type": "stream",
     "text": [
      "Theta found by fmin_tnc:\n",
      "[[ 1.2727]\n",
      " [ 0.6253]\n",
      " [ 1.1811]\n",
      " [-2.0199]\n",
      " [-0.9174]\n",
      " [-1.4317]\n",
      " [ 0.1239]\n",
      " [-0.3655]\n",
      " [-0.3573]\n",
      " [-0.1752]\n",
      " [-1.4582]\n",
      " [-0.0510]\n",
      " [-0.6156]\n",
      " [-0.2747]\n",
      " [-1.1927]\n",
      " [-0.2422]\n",
      " [-0.2060]\n",
      " [-0.0447]\n",
      " [-0.2778]\n",
      " [-0.2954]\n",
      " [-0.4565]\n",
      " [-1.0432]\n",
      " [ 0.0278]\n",
      " [-0.2924]\n",
      " [ 0.0156]\n",
      " [-0.3274]\n",
      " [-0.1439]\n",
      " [-0.9247]]\n"
     ]
    }
   ],
   "source": [
    "import scipy.optimize as opt\n",
    "\n",
    "def train(X, y, theta, lamda=1):\n",
    "    result = opt.fmin_tnc(func=computeCost, x0=initial_theta, args=(X, y, lamda))\n",
    "    return result[0][:, np.newaxis] # 这里 fmin_tnc 返回的theta 是一维数组\n",
    "\n",
    "final_theta = train(X, y, initial_theta, 1)\n",
    "print('Theta found by fmin_tnc:')\n",
    "print(final_theta)\n"
   ]
  },
  {
   "cell_type": "code",
   "execution_count": 13,
   "metadata": {},
   "outputs": [
    {
     "name": "stdout",
     "output_type": "stream",
     "text": [
      "Train Accuracy: 83.05084745762711\n",
      "Expected accuracy (with lambda = 1): 83.1 (approx)\n"
     ]
    }
   ],
   "source": [
    "def predict(X, theta):\n",
    "    prob = sigmoid(X @ theta)\n",
    "    y_pred = np.int64(prob >= 0.5)\n",
    "    return y_pred\n",
    "\n",
    "\n",
    "# Compute accuracy on our training set\n",
    "p = predict(X, final_theta)\n",
    "\n",
    "print(f'Train Accuracy: {np.mean(p == y) * 100}')\n",
    "print('Expected accuracy (with lambda = 1): 83.1 (approx)')\n"
   ]
  },
  {
   "cell_type": "markdown",
   "metadata": {},
   "source": [
    "# 决策边界\n",
    "\n",
    "决策边界就是Xθ=0的时候\n",
    "\n",
    "由 X * θ = 0 得\n",
    "θ0 + θ1 * x1 + θ2 * x2 = 0\n",
    "\n",
    "所以:\n",
    "x2 = -θ0/θ2 - θ1/θ2 * x1\n"
   ]
  },
  {
   "cell_type": "code",
   "execution_count": 30,
   "metadata": {},
   "outputs": [
    {
     "name": "stdout",
     "output_type": "stream",
     "text": [
      "Plotting data with + indicating (y = 1) examples and o indicatig (y = 0) examples.\n",
      "\n"
     ]
    },
    {
     "data": {
      "image/png": "[encoded data removed]",
      "text/plain": [
       "<Figure size 576x576 with 1 Axes>"
      ]
     },
     "metadata": {
      "needs_background": "light"
     },
     "output_type": "display_data"
    }
   ],
   "source": [
    "ax = plotData(data)   # 画原始数据\n",
    "\n",
    "# Here is the grid range\n",
    "a = np.linspace(-1, 1.5, 200)\n",
    "U, V = np.meshgrid(a, a) # 模拟特征 x1, x2\n",
    "\n",
    "z = mapFeature(U.flatten(), V.flatten()).values\n",
    "Z1 = (z @ final_theta).reshape(U.shape)\n",
    "cs = ax.contour(U, V, Z1, 0, colors='blue', linewidths=2) # lamda为1 恰到好处\n",
    "cs.collections[0].set_label('just fitting (λ=1)')\n",
    "\n",
    "theta_lamda_0 = train(X, y, initial_theta, 0)\n",
    "theta_lamda_100 = train(X, y, initial_theta, 100)\n",
    "Z0 = (z @ theta_lamda_0).reshape(U.shape)\n",
    "Z100 = (z @ theta_lamda_100).reshape(U.shape)\n",
    "\n",
    "cs = ax.contour(U, V, Z0, 0, colors='purple', linewidths=2)   # lamda为0 过拟合\n",
    "cs.collections[0].set_label('over fitting (λ=0)')\n",
    "cs = ax.contour(U, V, Z100, 0, colors='y', linewidths=2) # lamda太大 欠拟合\n",
    "cs.collections[0].set_label('under fitting (λ=100)')\n",
    "ax.set_title('Decision Boundary with different λ')\n",
    "\n",
    "# if needs legend for contour collections, must use proxy as below\n",
    "handles, labels = ax.get_legend_handles_labels()\n",
    "# proxy = [plt.Rectangle((0,0), 1, 1, fc = pc.get_edgecolor()[0]) for pc in handles[2:]]\n",
    "\n",
    "proxy = [mp.lines.Line2D((0,0), (0,1), c = pc.get_edgecolor()[0]) for pc in handles[2:]]\n",
    "plt.legend(handles[:2] + proxy, labels)\n",
    "plt.show()\n"
   ]
  },
  {
   "cell_type": "markdown",
   "metadata": {},
   "source": [
    "# 自己实现梯度下降法算法\n",
    "\n",
    "可以多尝试几次用不同的学习率 alpha 和 迭代次数, 以及lamda.\n",
    "\n",
    "这里仅作为练习之用, 平时最好利用完善的三方库, 比如`scipy.optimize.fmin_tnc`"
   ]
  },
  {
   "cell_type": "code",
   "execution_count": 15,
   "metadata": {},
   "outputs": [
    {
     "name": "stdout",
     "output_type": "stream",
     "text": [
      "\n",
      "Running Gradient Descent ...\n",
      "\n"
     ]
    }
   ],
   "source": [
    "def gradientDescent(X, y, theta, alpha, num_iters, lamda):\n",
    "    J_history = []\n",
    "    for i in range(num_iters):\n",
    "        J, grad = computeCost(theta, X, y, lamda)\n",
    "        theta -= alpha * grad\n",
    "        J_history.append(J)\n",
    "    return theta, J_history\n",
    "\n",
    "\n",
    "iterations = 100000\n",
    "alpha = 0.001\n",
    "initial_theta = np.zeros((X.shape[1], 1))\n",
    "lamda = 0.5\n",
    "\n",
    "print('\\nRunning Gradient Descent ...\\n')\n",
    "got_theta, J_history = gradientDescent(X, y, initial_theta, alpha, iterations, lamda)\n"
   ]
  },
  {
   "cell_type": "markdown",
   "metadata": {},
   "source": [
    "# 训练集准确率"
   ]
  },
  {
   "cell_type": "code",
   "execution_count": 16,
   "metadata": {},
   "outputs": [
    {
     "name": "stdout",
     "output_type": "stream",
     "text": [
      "Train Accuracy: 83.05084745762711\n",
      "Expected accuracy (with lambda = 1): 83.1 (approx)\n"
     ]
    }
   ],
   "source": [
    "# Compute accuracy on our training set\n",
    "p = predict(X, got_theta)\n",
    "\n",
    "print(f'Train Accuracy: {np.mean(p == y) * 100}')\n",
    "print('Expected accuracy (with lambda = 1): 83.1 (approx)')\n"
   ]
  }
 ],
 "metadata": {
  "kernelspec": {
   "display_name": "Python 3",
   "language": "python",
   "name": "python3"
  },
  "language_info": {
   "codemirror_mode": {
    "name": "ipython",
    "version": 3
   },
   "file_extension": ".py",
   "mimetype": "text/x-python",
   "name": "python",
   "nbconvert_exporter": "python",
   "pygments_lexer": "ipython3",
   "version": "3.8.10"
  }
 },
 "nbformat": 4,
 "nbformat_minor": 2
}
