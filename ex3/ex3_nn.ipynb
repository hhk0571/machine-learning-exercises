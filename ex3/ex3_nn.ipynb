{
 "cells": [
  {
   "cell_type": "markdown",
   "metadata": {},
   "source": [
    "神经网络前向传播\n",
    "======\n",
    "使用神经网络来识别手写数字(从0到9)。逻辑回归，并将其应用于one-vs-all分类。\n",
    "\n",
    "数据：数据以.mat格式储存，mat格式是matlab的数据存储格式，按照矩阵保存，与numpy数据格式兼容，适合于各种数学运算，因此主要使用numpy进行运算。\n",
    "\n",
    "ex3data1中有5000个训练样例，其中每个训练样例是一个20像素×20像素灰度图像的数字，每个像素由一个浮点数表示，该浮点数表示该位置的灰度强度。每个20×20像素的网格被展开成一个400维的向量。这些每个训练样例都变成数据矩阵X中的一行。这就得到了一个5000×400矩阵X，其中每一行都是手写数字图像的训练样例。\n",
    "\n",
    "训练集的第二部分是一个包含训练集标签的5000维向量y，“0”的数字标记为“10”，而“1”到“9”的数字按自然顺序标记为“1”到“9”。\n"
   ]
  },
  {
   "cell_type": "code",
   "execution_count": 19,
   "metadata": {},
   "outputs": [],
   "source": [
    "import numpy as np\n",
    "import pandas as pd\n",
    "import matplotlib.pyplot as plt\n",
    "import matplotlib as mp\n",
    "\n",
    "np.set_printoptions(suppress=True, precision=6, floatmode='fixed')\n",
    "## 全局设置\n",
    "plt.rcParams['figure.figsize']=(8, 8)\n",
    "# plt.rcParams['font.sans-serif'] = ['SimHei']\n",
    "# plt.rcParams['axes.unicode_minus'] = False\n"
   ]
  },
  {
   "cell_type": "markdown",
   "metadata": {},
   "source": [
    "# 读取数据：\n",
    "\n",
    "sio.loadmat 读取mat后，为dict类型"
   ]
  },
  {
   "cell_type": "code",
   "execution_count": 20,
   "metadata": {},
   "outputs": [],
   "source": [
    "import scipy.io\n",
    "data = scipy.io.loadmat('ex3data1.mat')\n"
   ]
  },
  {
   "cell_type": "code",
   "execution_count": 21,
   "metadata": {},
   "outputs": [
    {
     "name": "stdout",
     "output_type": "stream",
     "text": [
      "<class 'dict'>\n",
      "dict_keys(['__header__', '__version__', '__globals__', 'X', 'y'])\n",
      "(5000, 400)\n",
      "(5000, 1)\n",
      "[[10]\n",
      " [10]\n",
      " [10]\n",
      " ...\n",
      " [ 9]\n",
      " [ 9]\n",
      " [ 9]]\n"
     ]
    }
   ],
   "source": [
    "print(type(data))\n",
    "print(data.keys())\n",
    "print(data['X'].shape)\n",
    "print(data['y'].shape)\n",
    "print(data['y'])\n"
   ]
  },
  {
   "cell_type": "markdown",
   "metadata": {},
   "source": [
    "# 读入训练好的权重"
   ]
  },
  {
   "cell_type": "code",
   "execution_count": 22,
   "metadata": {},
   "outputs": [
    {
     "name": "stdout",
     "output_type": "stream",
     "text": [
      "dict_keys(['__header__', '__version__', '__globals__', 'Theta1', 'Theta2'])\n"
     ]
    }
   ],
   "source": [
    "weights = scipy.io.loadmat('ex3weights.mat')\n",
    "\n",
    "print(weights.keys())\n"
   ]
  },
  {
   "cell_type": "code",
   "execution_count": 23,
   "metadata": {},
   "outputs": [
    {
     "name": "stdout",
     "output_type": "stream",
     "text": [
      "(25, 401) (10, 26)\n"
     ]
    }
   ],
   "source": [
    "theta1 = weights['Theta1'] # 第1层的权重 (中的隐藏层 25个神经元)\n",
    "theta2 = weights['Theta2'] # 第2层的权重 (输出层 10个神经元)\n",
    "\n",
    "print(theta1.shape, theta2.shape)\n"
   ]
  },
  {
   "cell_type": "markdown",
   "metadata": {},
   "source": [
    "# 构建数据集"
   ]
  },
  {
   "cell_type": "code",
   "execution_count": 24,
   "metadata": {},
   "outputs": [
    {
     "name": "stdout",
     "output_type": "stream",
     "text": [
      "(5000, 400)\n",
      "(5000, 1)\n",
      "[[9]\n",
      " [9]\n",
      " [9]\n",
      " ...\n",
      " [8]\n",
      " [8]\n",
      " [8]]\n"
     ]
    }
   ],
   "source": [
    "X = data['X']\n",
    "y = data['y'] - 1 # data 中y 范围是1~10, 代表数字0~9, 故减1\n",
    "print(X.shape) # (118, 28)\n",
    "print(y.shape) # (118, 1)\n",
    "print(y)\n"
   ]
  },
  {
   "cell_type": "markdown",
   "metadata": {},
   "source": [
    "# 实现前向传播\n"
   ]
  },
  {
   "cell_type": "code",
   "execution_count": 27,
   "metadata": {},
   "outputs": [],
   "source": [
    "def sigmoid(z):\n",
    "    return 1.0 / (1.0 + np.exp(-z))\n",
    "\n",
    "def predict(theta1, theta2, X):\n",
    "    # 第1层: 隐藏层, 有25个神经元, theta1 (25, 401)\n",
    "    X = np.insert(X, 0, values=1, axis=1) # 给bias 增加一列 1\n",
    "    z1 = X @ theta1.T  # (5000, 401) (401, 25) => (5000,25)\n",
    "    a1 = sigmoid(z1)\n",
    "\n",
    "    # 第2层: 输出层, 有10个神经元, theta2 (10, 26)\n",
    "    a1 = np.insert(a1, 0, values=1, axis=1) # 给bias 增加一列 1\n",
    "    z2 = a1 @ theta2.T # (5000,26) (26, 10) => (5000,10)\n",
    "    a2 =sigmoid(z2) # 输出h为1的概率\n",
    "    h_argmax = np.argmax(a2, axis=1) # 按行返回概率最大的索引, 对应数字0 ~ 9\n",
    "    return h_argmax[:, np.newaxis] # 维度变为 (5000,1)\n",
    "\n",
    "\n",
    "def predict_new(X, thetas):\n",
    "    '''\n",
    "    遍历 thetas 列表, 进行前向传播\n",
    "    '''\n",
    "    a = X\n",
    "    for theta in thetas:\n",
    "        a = np.insert(a, 0, values=1, axis=1) # 给bias 增加一列 1\n",
    "        z = a @ theta.T\n",
    "        a = sigmoid(z)\n",
    "\n",
    "    h_argmax = np.argmax(a, axis=1) # 按行返回概率最大的索引, 对应数字0 ~ 9\n",
    "    return h_argmax[:, np.newaxis] # 维度变为 (xxx,1)\n"
   ]
  },
  {
   "cell_type": "markdown",
   "metadata": {},
   "source": [
    "# 训练集准确率\n",
    "\n",
    "得到一个5000乘10的预测概率矩阵，找到每一行的概率最大的值位置，得到预测的类别，再和期望值y比较得到精度。"
   ]
  },
  {
   "cell_type": "code",
   "execution_count": 28,
   "metadata": {},
   "outputs": [
    {
     "name": "stdout",
     "output_type": "stream",
     "text": [
      "0.9752\n",
      "0.9752\n"
     ]
    }
   ],
   "source": [
    "y_pred = predict(theta1, theta2, X)\n",
    "acc = np.mean(y_pred == y)\n",
    "\n",
    "print(acc) # 0.9752\n",
    "\n",
    "\n",
    "y_pred = predict_new(X, [theta1, theta2])\n",
    "acc = np.mean(y_pred == y)\n",
    "\n",
    "print(acc) # 0.9752\n"
   ]
  }
 ],
 "metadata": {
  "kernelspec": {
   "display_name": "Python 3",
   "language": "python",
   "name": "python3"
  },
  "language_info": {
   "codemirror_mode": {
    "name": "ipython",
    "version": 3
   },
   "file_extension": ".py",
   "mimetype": "text/x-python",
   "name": "python",
   "nbconvert_exporter": "python",
   "pygments_lexer": "ipython3",
   "version": "3.8.10"
  }
 },
 "nbformat": 4,
 "nbformat_minor": 2
}
