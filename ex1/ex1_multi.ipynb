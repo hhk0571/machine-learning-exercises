{
 "cells": [
  {
   "cell_type": "markdown",
   "metadata": {},
   "source": [
    "多变量线性回归\n",
    "=====\n",
    "\n",
    "# 简介\n",
    "\n",
    "预测房价，输入变量有两个特征，房子面积，房子卧室数量。输出变量，房子的价格\n",
    "\n",
    "维度:\n",
    "| 变量 | 维度  | 备注 | \n",
    "| ---  | --- | --- | \n",
    "| X | m*n | 47 * 3 注: 在 X 前加一列全1, 作为偏置(bias, 即theta 0)的特征值, 因此n变成3 |\n",
    "| y | m*1 | 47 * 1|\n",
    "| theta | n*1 | 3 * 1 |"
   ]
  },
  {
   "cell_type": "code",
   "execution_count": 225,
   "metadata": {},
   "outputs": [],
   "source": [
    "import numpy as np\n",
    "import pandas as pd\n",
    "import matplotlib.pyplot as plt\n",
    "\n",
    "## 全局设置\n",
    "plt.rcParams['figure.figsize']=(16, 8)\n",
    "# plt.rcParams['font.sans-serif'] = ['SimHei']\n",
    "# plt.rcParams['axes.unicode_minus'] = False\n"
   ]
  },
  {
   "cell_type": "markdown",
   "metadata": {},
   "source": [
    "# 原始数据"
   ]
  },
  {
   "cell_type": "code",
   "execution_count": 226,
   "metadata": {},
   "outputs": [],
   "source": [
    "# numpy way\n",
    "# data = np.loadtxt('ex1data2.txt', delimiter=',')\n",
    "\n",
    "data = pd.read_csv('ex1data2.txt', names = ['size','bedrooms','price'])\n",
    "\n"
   ]
  },
  {
   "cell_type": "code",
   "execution_count": 227,
   "metadata": {},
   "outputs": [
    {
     "data": {
      "text/html": [
       "<div>\n",
       "<style scoped>\n",
       "    .dataframe tbody tr th:only-of-type {\n",
       "        vertical-align: middle;\n",
       "    }\n",
       "\n",
       "    .dataframe tbody tr th {\n",
       "        vertical-align: top;\n",
       "    }\n",
       "\n",
       "    .dataframe thead th {\n",
       "        text-align: right;\n",
       "    }\n",
       "</style>\n",
       "<table border=\"1\" class=\"dataframe\">\n",
       "  <thead>\n",
       "    <tr style=\"text-align: right;\">\n",
       "      <th></th>\n",
       "      <th>size</th>\n",
       "      <th>bedrooms</th>\n",
       "      <th>price</th>\n",
       "    </tr>\n",
       "  </thead>\n",
       "  <tbody>\n",
       "    <tr>\n",
       "      <th>0</th>\n",
       "      <td>2104</td>\n",
       "      <td>3</td>\n",
       "      <td>399900</td>\n",
       "    </tr>\n",
       "    <tr>\n",
       "      <th>1</th>\n",
       "      <td>1600</td>\n",
       "      <td>3</td>\n",
       "      <td>329900</td>\n",
       "    </tr>\n",
       "    <tr>\n",
       "      <th>2</th>\n",
       "      <td>2400</td>\n",
       "      <td>3</td>\n",
       "      <td>369000</td>\n",
       "    </tr>\n",
       "    <tr>\n",
       "      <th>3</th>\n",
       "      <td>1416</td>\n",
       "      <td>2</td>\n",
       "      <td>232000</td>\n",
       "    </tr>\n",
       "    <tr>\n",
       "      <th>4</th>\n",
       "      <td>3000</td>\n",
       "      <td>4</td>\n",
       "      <td>539900</td>\n",
       "    </tr>\n",
       "    <tr>\n",
       "      <th>5</th>\n",
       "      <td>1985</td>\n",
       "      <td>4</td>\n",
       "      <td>299900</td>\n",
       "    </tr>\n",
       "    <tr>\n",
       "      <th>6</th>\n",
       "      <td>1534</td>\n",
       "      <td>3</td>\n",
       "      <td>314900</td>\n",
       "    </tr>\n",
       "    <tr>\n",
       "      <th>7</th>\n",
       "      <td>1427</td>\n",
       "      <td>3</td>\n",
       "      <td>198999</td>\n",
       "    </tr>\n",
       "    <tr>\n",
       "      <th>8</th>\n",
       "      <td>1380</td>\n",
       "      <td>3</td>\n",
       "      <td>212000</td>\n",
       "    </tr>\n",
       "    <tr>\n",
       "      <th>9</th>\n",
       "      <td>1494</td>\n",
       "      <td>3</td>\n",
       "      <td>242500</td>\n",
       "    </tr>\n",
       "  </tbody>\n",
       "</table>\n",
       "</div>"
      ],
      "text/plain": [
       "   size  bedrooms   price\n",
       "0  2104         3  399900\n",
       "1  1600         3  329900\n",
       "2  2400         3  369000\n",
       "3  1416         2  232000\n",
       "4  3000         4  539900\n",
       "5  1985         4  299900\n",
       "6  1534         3  314900\n",
       "7  1427         3  198999\n",
       "8  1380         3  212000\n",
       "9  1494         3  242500"
      ]
     },
     "execution_count": 227,
     "metadata": {},
     "output_type": "execute_result"
    }
   ],
   "source": [
    "data[:10]\n"
   ]
  },
  {
   "cell_type": "code",
   "execution_count": 228,
   "metadata": {},
   "outputs": [
    {
     "data": {
      "text/plain": [
       "(47, 3)"
      ]
     },
     "execution_count": 228,
     "metadata": {},
     "output_type": "execute_result"
    }
   ],
   "source": [
    "data.shape\n"
   ]
  },
  {
   "cell_type": "code",
   "execution_count": 229,
   "metadata": {},
   "outputs": [
    {
     "name": "stdout",
     "output_type": "stream",
     "text": [
      "(47, 2) (47, 1) 47\n"
     ]
    }
   ],
   "source": [
    "X=data.iloc[:, :-1]\n",
    "y=data.iloc[:, -1:]\n",
    "\n",
    "m = len(data)\n",
    "\n",
    "print(X.shape, y.shape, m)\n",
    "# print(X[:10])\n",
    "# print(y[:10])\n"
   ]
  },
  {
   "cell_type": "markdown",
   "metadata": {},
   "source": [
    "#  特征均值归一化"
   ]
  },
  {
   "cell_type": "code",
   "execution_count": 230,
   "metadata": {},
   "outputs": [],
   "source": [
    "def featureNormalize(X):\n",
    "    '''\n",
    "    FEATURENORMALIZE Normalizes the features in X\n",
    "        FEATURENORMALIZE(X) returns a normalized version of X where\n",
    "        the mean value of each feature is 0 and the standard deviation\n",
    "        is 1. This is often a good preprocessing step to do when\n",
    "        working with learning algorithms.\n",
    "    '''\n",
    "    # mu = np.mean(X, axis=0)\n",
    "    # sigma = np.std(X, axis=0)\n",
    "    mu = X.mean()\n",
    "    sigma = X.std()\n",
    "    X_norm = (X - mu) / sigma\n",
    "\n",
    "    return X_norm, mu, sigma\n"
   ]
  },
  {
   "cell_type": "code",
   "execution_count": 231,
   "metadata": {},
   "outputs": [
    {
     "name": "stdout",
     "output_type": "stream",
     "text": [
      "Normalizing Features ...\n",
      "\n"
     ]
    }
   ],
   "source": [
    "print('Normalizing Features ...\\n')\n",
    "X, mu, sigma = featureNormalize(X)\n"
   ]
  },
  {
   "cell_type": "markdown",
   "metadata": {},
   "source": [
    "# 构建训练集"
   ]
  },
  {
   "cell_type": "code",
   "execution_count": 232,
   "metadata": {},
   "outputs": [
    {
     "name": "stdout",
     "output_type": "stream",
     "text": [
      "(47, 3)\n"
     ]
    }
   ],
   "source": [
    "# 在 X 前加一列 1, 作为偏置(bias, 即theta 0)的x值\n",
    "# X = np.c_[np.ones(m), X]\n",
    "X.insert(0, 'ones', 1)\n",
    "\n",
    "## 转换为numpy 的ndarray\n",
    "X = X.values\n",
    "y = y.values\n",
    "# mu = mu.values\n",
    "# sigma = sigma.values\n",
    "\n",
    "print(X.shape)\n"
   ]
  },
  {
   "cell_type": "code",
   "execution_count": 233,
   "metadata": {},
   "outputs": [
    {
     "name": "stdout",
     "output_type": "stream",
     "text": [
      "(3, 1)\n",
      "[[ 1.          0.13000987 -0.22367519]\n",
      " [ 1.         -0.50418984 -0.22367519]\n",
      " [ 1.          0.50247636 -0.22367519]\n",
      " [ 1.         -0.73572306 -1.53776691]\n",
      " [ 1.          1.25747602  1.09041654]\n",
      " [ 1.         -0.01973173  1.09041654]\n",
      " [ 1.         -0.5872398  -0.22367519]\n",
      " [ 1.         -0.7218814  -0.22367519]\n",
      " [ 1.         -0.78102304 -0.22367519]\n",
      " [ 1.         -0.63757311 -0.22367519]]\n"
     ]
    }
   ],
   "source": [
    "iterations = 400\n",
    "alpha = 0.01  # learning rate\n",
    "\n",
    "theta = np.zeros((X.shape[1], 1))\n",
    "\n",
    "print(theta.shape)\n",
    "\n",
    "print(X[:10])\n"
   ]
  },
  {
   "cell_type": "markdown",
   "metadata": {},
   "source": [
    "# 损失函数"
   ]
  },
  {
   "cell_type": "code",
   "execution_count": 234,
   "metadata": {},
   "outputs": [],
   "source": [
    "def computeCost(X, y, theta) -> float:\n",
    "    '''\n",
    "    COMPUTECOST Compute cost for linear regression:\n",
    "        J = COMPUTECOST(X, y, theta) computes the cost of using theta as the\n",
    "        parameter for linear regression to fit the data points in X and y\n",
    "    '''\n",
    "    m = len(y) # number of training examples\n",
    "    A = X @ theta - y   # m*n x n*1 -> m*1\n",
    "    cost = A.T @ A / (2*m)\n",
    "    return cost.item()\n"
   ]
  },
  {
   "cell_type": "markdown",
   "metadata": {},
   "source": [
    "# 梯度下降函数"
   ]
  },
  {
   "cell_type": "code",
   "execution_count": 235,
   "metadata": {},
   "outputs": [],
   "source": [
    "def gradientDescent(X, y, theta, alpha, num_iters):\n",
    "    '''\n",
    "    GRADIENTDESCENT Performs gradient descent to learn theta\n",
    "        theta = GRADIENTDESCENT(X, y, theta, alpha, num_iters) updates theta by\n",
    "        taking num_iters gradient steps with learning rate alpha\n",
    "    '''\n",
    "    m = len(y) # number of training examples\n",
    "    J_history = []\n",
    "    for i in range(num_iters):\n",
    "        grad = X.T @ (X @ theta - y) / m\n",
    "        theta -= alpha * grad\n",
    "        cost = computeCost(X, y, theta)\n",
    "        J_history.append(cost)\n",
    "        # if i % 100 == 0:\n",
    "        #     print(f'iter: {i} cost: {cost}')\n",
    "    return theta, J_history\n"
   ]
  },
  {
   "cell_type": "code",
   "execution_count": 236,
   "metadata": {},
   "outputs": [
    {
     "name": "stdout",
     "output_type": "stream",
     "text": [
      "\n",
      "Running Gradient Descent ...\n",
      "\n"
     ]
    }
   ],
   "source": [
    "print('\\nRunning Gradient Descent ...\\n')\n",
    "# run gradient descent\n",
    "theta, J_history = gradientDescent(X, y, theta, alpha, iterations)\n"
   ]
  },
  {
   "cell_type": "code",
   "execution_count": 237,
   "metadata": {},
   "outputs": [
    {
     "name": "stdout",
     "output_type": "stream",
     "text": [
      "Theta computed from gradient descent:\n",
      "\n",
      "[[334302.06399328]\n",
      " [100087.11600585]\n",
      " [  3673.54845093]]\n"
     ]
    }
   ],
   "source": [
    "''' expected\n",
    "334302.063993\n",
    "100087.116006\n",
    "3673.548451\n",
    "'''\n",
    "print('Theta computed from gradient descent:\\n')\n",
    "print(theta)\n",
    "\n",
    "# theta[0] 为 线性方程 y = w*x + b 中的截距b; theta[1] 为系数w\n"
   ]
  },
  {
   "cell_type": "code",
   "execution_count": 238,
   "metadata": {},
   "outputs": [
    {
     "data": {
      "text/plain": [
       "<matplotlib.legend.Legend at 0x1bb5fc397f0>"
      ]
     },
     "execution_count": 238,
     "metadata": {},
     "output_type": "execute_result"
    },
    {
     "data": {
      "image/png": "[encoded data removed]",
      "text/plain": [
       "<Figure size 1152x576 with 1 Axes>"
      ]
     },
     "metadata": {
      "needs_background": "light"
     },
     "output_type": "display_data"
    }
   ],
   "source": [
    "# Plot the convergence graph\n",
    "plt.plot(range(len(J_history)), J_history, '-b', linewidth=2, label='J_history')\n",
    "plt.xlabel('Number of iterations')\n",
    "plt.ylabel('Cost J')\n",
    "plt.legend()\n"
   ]
  },
  {
   "cell_type": "code",
   "execution_count": 239,
   "metadata": {},
   "outputs": [
    {
     "name": "stdout",
     "output_type": "stream",
     "text": [
      "Predicted price of a 1650 sq-ft, 3 br house (using gradient descent):\n",
      " $[289314.62033778]\n",
      "\n"
     ]
    }
   ],
   "source": [
    "# Predict the price of a 1650 sq-ft, 3 br house\n",
    "predict_price = np.dot(np.r_[1, ([1650, 3] - mu) / sigma ], theta)\n",
    "print(f'Predicted price of a 1650 sq-ft, 3 br house (using gradient descent):\\n ${predict_price}\\n')\n",
    "\n",
    "# expected: ~ 289314.620338\n"
   ]
  },
  {
   "cell_type": "markdown",
   "metadata": {},
   "source": [
    "# 不同学习率下损失函数的迭代 "
   ]
  },
  {
   "cell_type": "code",
   "execution_count": 241,
   "metadata": {},
   "outputs": [
    {
     "data": {
      "image/png": "[encoded data removed]",
      "text/plain": [
       "<Figure size 1152x576 with 1 Axes>"
      ]
     },
     "metadata": {
      "needs_background": "light"
     },
     "output_type": "display_data"
    }
   ],
   "source": [
    "alphas = [0.003,0.03,0.0001,0.001,0.01]\n",
    "iterations = 200\n",
    "fig, ax = plt.subplots()\n",
    "for alpha in alphas: # 迭代不同学习率alpha\n",
    "    theta = np.zeros((X.shape[1], 1))\n",
    "    __, costs = gradientDescent(X, y, theta, alpha, iterations) # 得到损失值\n",
    "    ax.plot(np.arange(iterations), costs, label = alpha) # 设置x轴参数为迭代次数，y轴参数为cost\n",
    "    ax.legend()  #加上这句  显示label\n",
    "\n",
    "ax.set(xlabel= 'iterations',   #图的坐标轴设置\n",
    "       ylabel= 'cost',\n",
    "       title = 'cost vs iterations')#标题\n",
    "plt.show()#显示图像\n"
   ]
  },
  {
   "cell_type": "markdown",
   "metadata": {},
   "source": [
    "# 使用正规方程直接计theta\n",
    "\n",
    "原理其实就是对损失函数求导, 导数为0时即为全局最优解.\n",
    "\n",
    "正规方程中有逆矩阵计算, 如果特征数量很多时, 计算量非常巨大, 不推荐使用."
   ]
  },
  {
   "cell_type": "code",
   "execution_count": 220,
   "metadata": {},
   "outputs": [],
   "source": [
    "X=data.iloc[:, :-1]\n",
    "y=data.iloc[:, -1:]\n",
    "X.insert(0, 'ones', 1)\n",
    "\n",
    "X = X.values\n",
    "y = y.values\n",
    "\n",
    "m = len(data)\n"
   ]
  },
  {
   "cell_type": "code",
   "execution_count": 221,
   "metadata": {},
   "outputs": [],
   "source": [
    "def normalEqn(X, y):\n",
    "    '''\n",
    "    NORMALEQN Computes the closed-form solution to linear regression\n",
    "       NORMALEQN(X,y) computes the closed-form solution to linear\n",
    "       regression using the normal equations.\n",
    "    '''\n",
    "    return np.linalg.pinv(X.T @ X) @ X.T @ y   # return theta\n"
   ]
  },
  {
   "cell_type": "code",
   "execution_count": 222,
   "metadata": {},
   "outputs": [],
   "source": [
    "theta = normalEqn(X, y)\n"
   ]
  },
  {
   "cell_type": "code",
   "execution_count": 223,
   "metadata": {},
   "outputs": [
    {
     "name": "stdout",
     "output_type": "stream",
     "text": [
      "Theta computed from the normal equations: \n",
      " [[89597.90954355]\n",
      " [  139.21067402]\n",
      " [-8738.01911255]]\n"
     ]
    }
   ],
   "source": [
    "''' expected:\n",
    " [[89597.90954355]\n",
    " [  139.21067402]\n",
    " [-8738.01911255]]\n",
    "'''\n",
    "print(f'Theta computed from the normal equations: \\n {theta}')\n",
    "\n",
    "\n"
   ]
  },
  {
   "cell_type": "code",
   "execution_count": 224,
   "metadata": {},
   "outputs": [
    {
     "name": "stdout",
     "output_type": "stream",
     "text": [
      "Predicted price of a 1650 sq-ft, 3 br house (using gradient descent):\n",
      " $[293081.46433497]\n",
      "\n"
     ]
    }
   ],
   "source": [
    "# Predict the price of a 1650 sq-ft, 3 br house\n",
    "predict_price = [1, 1650, 3] @ theta\n",
    "print(f'Predicted price of a 1650 sq-ft, 3 br house (using gradient descent):\\n ${predict_price}\\n')\n",
    "\n",
    "# expected: [293081.46433497]\n"
   ]
  }
 ],
 "metadata": {
  "kernelspec": {
   "display_name": "Python 3",
   "language": "python",
   "name": "python3"
  },
  "language_info": {
   "codemirror_mode": {
    "name": "ipython",
    "version": 3
   },
   "file_extension": ".py",
   "mimetype": "text/x-python",
   "name": "python",
   "nbconvert_exporter": "python",
   "pygments_lexer": "ipython3",
   "version": "3.8.10"
  }
 },
 "nbformat": 4,
 "nbformat_minor": 2
}
